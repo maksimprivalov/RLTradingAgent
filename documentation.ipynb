{
 "cells": [
  {
   "cell_type": "markdown",
   "id": "42477f1b",
   "metadata": {},
   "source": [
    "# RL Trading Agent Project Documentation\n",
    "\n",
    "This notebook provides a comprehensive overview and usage guide for the RL Trading Agent project. The project uses reinforcement learning to train an agent to trade stocks based on engineered features from historical price data."
   ]
  },
  {
   "cell_type": "markdown",
   "id": "ca0b636a",
   "metadata": {},
   "source": [
    "## Project Structure\n",
    "\n",
    "```\n",
    "RLTradingAgent/\n",
    "├── agent/\n",
    "│   ├── train.py         # Training script\n",
    "│   ├── eval.py          # Evaluation script\n",
    "│   ├── features.py      # Feature engineering and data splitting\n",
    "│   ├── prepare_data.py  # Data preparation utility\n",
    "│   └── env.py           # Custom trading environment\n",
    "├── data/\n",
    "│   ├── MSFT_train.csv   # Training data\n",
    "│   ├── MSFT_test.csv    # Test data\n",
    "│   └── MSFT_val.csv     # Validation data\n",
    "└── Project_Documentation.ipynb  # This documentation\n",
    "```"
   ]
  },
  {
   "cell_type": "markdown",
   "id": "022a19cd",
   "metadata": {},
   "source": [
    "## 1. Feature Engineering (`features.py`)\n",
    "\n",
    "The `features.py` module loads historical stock data and computes a rich set of features for RL training:\n",
    "- **log_return:** Logarithmic returns\n",
    "- **sma20, sma50:** Simple moving averages\n",
    "- **volatility20:** Rolling volatility\n",
    "- **ema12, ema26:** Exponential moving averages\n",
    "- **macd, macd_signal:** MACD and its signal line\n",
    "- **rsi14:** Relative Strength Index\n",
    "- **bollinger_mid, bollinger_up, bollinger_down:** Bollinger Bands\n",
    "- **volume_change:** Percentage change in volume\n",
    "\n",
    "The `split_data` function divides the dataset into train, test, and validation sets based on date ranges."
   ]
  },
  {
   "cell_type": "code",
   "execution_count": null,
   "id": "e0c964b2",
   "metadata": {},
   "outputs": [],
   "source": [
    "# Example: Load and inspect features\n",
    "from agent.features import load_data, split_data\n",
    "df = load_data(ticker=\"MSFT\")\n",
    "df.head()"
   ]
  },
  {
   "cell_type": "markdown",
   "id": "dbc8e534",
   "metadata": {},
   "source": [
    "## 2. Data Preparation (`prepare_data.py`)\n",
    "\n",
    "This script loads raw data, computes features, splits the data, and saves the resulting CSV files for training, testing, and validation.\n",
    "\n",
    "Run from terminal:\n",
    "```bash\n",
    "python agent/prepare_data.py\n",
    "```\n",
    "Output files are saved in the `data/` directory."
   ]
  },
  {
   "cell_type": "markdown",
   "id": "b94e6672",
   "metadata": {},
   "source": [
    "## 3. Trading Environment (`env.py`)\n",
    "\n",
    "Implements a custom OpenAI Gym-compatible environment for trading:\n",
    "- **Observation:** Flattened window of engineered features for the past 30 days\n",
    "- **Action space:** Discrete (0=SELL, 1=HOLD, 2=BUY)\n",
    "- **Reward:** Based on trading actions, profit/loss, and volatility penalty\n",
    "- **State variables:** Balance, shares held, equity\n",
    "\n",
    "The environment is compatible with Stable Baselines3 RL algorithms."
   ]
  },
  {
   "cell_type": "code",
   "execution_count": null,
   "id": "46234b1b",
   "metadata": {},
   "outputs": [],
   "source": [
    "# Example: Initialize and step through the environment\n",
    "import pandas as pd\n",
    "from agent.env import TradingEnv\n",
    "df = pd.read_csv(\"data/MSFT_train.csv\")\n",
    "env = TradingEnv(df)\n",
    "obs, info = env.reset()\n",
    "for _ in range(5):\n",
    "    action = env.action_space.sample()\n",
    "    obs, reward, terminated, truncated, info = env.step(action)\n",
    "    print(f\"Action: {action}, Reward: {reward:.2f}, Equity: {info['equity']:.2f}\")\n",
    "    if terminated:\n",
    "        break"
   ]
  },
  {
   "cell_type": "markdown",
   "id": "ed0613c0",
   "metadata": {},
   "source": [
    "## 4. Training the RL Agent (`train.py`)\n",
    "\n",
    "Trains a PPO agent using Stable Baselines3 on the custom environment.\n",
    "\n",
    "**Key hyperparameters:**\n",
    "- Policy: MlpPolicy\n",
    "- Learning rate: 3e-4\n",
    "- Batch size: 64\n",
    "- n_steps: 2048\n",
    "- Gamma: 0.99\n",
    "- GAE lambda: 0.95\n",
    "- Entropy coefficient: 0.03\n",
    "\n",
    "Run training from terminal:\n",
    "```bash\n",
    "python agent/train.py\n",
    "```\n",
    "The trained model is saved as `ppo_trader.zip`."
   ]
  },
  {
   "cell_type": "markdown",
   "id": "a3704584",
   "metadata": {},
   "source": [
    "## 5. Evaluating the Agent (`eval.py`)\n",
    "\n",
    "Loads the trained model and evaluates its performance on the test set. Compares RL agent equity curve to a Buy & Hold strategy.\n",
    "\n",
    "Run evaluation from terminal:\n",
    "```bash\n",
    "python agent/eval.py\n",
    "```\n",
    "A plot is displayed showing RL agent vs Buy & Hold performance."
   ]
  },
  {
   "cell_type": "code",
   "execution_count": null,
   "id": "0f83dcbd",
   "metadata": {},
   "outputs": [],
   "source": [
    "# Example: Evaluate the trained agent\n",
    "from stable_baselines3 import PPO\n",
    "import pandas as pd\n",
    "from agent.eval import evaluate_model\n",
    "df_test = pd.read_csv(\"data/MSFT_test.csv\")\n",
    "model = PPO.load(\"ppo_trader\")\n",
    "agent_equity, actions = evaluate_model(model, df_test, window_size=30)\n",
    "print(\"Final equity:\", agent_equity[-1])"
   ]
  },
  {
   "cell_type": "markdown",
   "id": "edc00512",
   "metadata": {},
   "source": [
    "## 6. Extending the Project\n",
    "\n",
    "- **Try different tickers:** Change the ticker in `prepare_data.py` and retrain.\n",
    "- **Tune hyperparameters:** Adjust PPO settings in `train.py`.\n",
    "- **Add features:** Enhance `features.py` with more indicators.\n",
    "- **Improve reward function:** Refine reward logic in `env.py`.\n",
    "- **Implement risk management:** Add drawdown or risk metrics.\n",
    "- **Backtest on validation set:** Use `MSFT_val.csv` for out-of-sample testing."
   ]
  },
  {
   "cell_type": "markdown",
   "id": "682f162b",
   "metadata": {},
   "source": [
    "## 7. References\n",
    "- [Stable Baselines3 Documentation](https://stable-baselines3.readthedocs.io/)\n",
    "- [OpenAI Gym](https://gym.openai.com/)\n",
    "- [Pandas Documentation](https://pandas.pydata.org/)\n",
    "- [yfinance Documentation](https://pypi.org/project/yfinance/)\n",
    "\n",
    "---\n",
    "For further questions, see code comments or contact the project maintainer."
   ]
  }
 ],
 "metadata": {
  "language_info": {
   "name": "python"
  }
 },
 "nbformat": 4,
 "nbformat_minor": 5
}
